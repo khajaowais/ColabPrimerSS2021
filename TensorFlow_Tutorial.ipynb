{
  "nbformat": 4,
  "nbformat_minor": 0,
  "metadata": {
    "colab": {
      "name": "TensorFlow Tutorial",
      "provenance": [],
      "include_colab_link": true
    },
    "kernelspec": {
      "name": "python3",
      "display_name": "Python 3"
    },
    "language_info": {
      "name": "python"
    }
  },
  "cells": [
    {
      "cell_type": "markdown",
      "metadata": {
        "id": "view-in-github",
        "colab_type": "text"
      },
      "source": [
        "<a href=\"https://colab.research.google.com/github/khajaowais/ColabPrimerSS2021/blob/main/TensorFlow_Tutorial.ipynb\" target=\"_parent\"><img src=\"https://colab.research.google.com/assets/colab-badge.svg\" alt=\"Open In Colab\"/></a>"
      ]
    },
    {
      "cell_type": "markdown",
      "metadata": {
        "id": "LIDAXtDyrrs6"
      },
      "source": [
        "Sources:\n",
        "* https://github.com/aladdinpersson/Machine-Learning-Collection/blob/master/ML/TensorFlow/Basics/tutorial2-tensorbasics.py\n",
        "* https://www.youtube.com/watch?v=tPYj3fFJGjk\n",
        "* https://www.tensorflow.org/guide/tensor\n"
      ]
    },
    {
      "cell_type": "markdown",
      "metadata": {
        "id": "A5yKYOuNnAD3"
      },
      "source": [
        "#TensorFlow 2.0 Introduction\n",
        "In this notebook you will be given an interactive introduction to TensorFlow 2.0. We will walk through the following topics within the TensorFlow module:\n",
        "\n",
        "- TensorFlow Install and Setup\n",
        "- Representing Tensors\n",
        "- Tensor Shape and Rank\n",
        "- Types of Tensors\n",
        "- Tensor Operations\n",
        "\n",
        "\n",
        "If you'd like to follow along without installing TensorFlow on your machine you can use **Google Colaboratory**. Colaboratory is a free Jupyter notebook environment that requires no setup and runs entirely in the cloud.\n"
      ]
    },
    {
      "cell_type": "markdown",
      "metadata": {
        "id": "kutjqBFmpX6R"
      },
      "source": [
        "# What is TensorFlow?\n",
        "Tensors are the heart of TensorFlow. Tensors can be thought of as multidimensional arrays. \n",
        "\n",
        "TensorFlow makes it convenient to define operations on these tensors, such as matrix-vector multiplication, and execute them efficiently, regardless of the underlying hardware.\n",
        "\n",
        "TensorFlow also has an automatic differentiation engine. This allows us to compute the gradients of differentiable functions, assuming we can express them using TensorFlow primitives.\n",
        "\n",
        "These two aspects together have made TensorFlow popular for training neural networks:\n",
        "* We can define neural network parameters as a list of tensors.\n",
        "* We can define a loss using TensorFlow primitives and tensors.\n",
        "* We can compute the gradients of a loss with respect to the neural network parameters, using the automatic differentiation engine.\n",
        "* We can update the parameters using an optimization scheme (such as SGD).\n",
        "\n",
        "TensorFlow makes it easy to do all of this! "
      ]
    },
    {
      "cell_type": "markdown",
      "metadata": {
        "id": "vnIhl39Cpq48"
      },
      "source": [
        "##Installing TensorFlow\n",
        "To install TensorFlow on your local machine you can use pip.\n",
        "```console\n",
        "pip install tensorflow\n",
        "```\n",
        "\n",
        "If you have a CUDA enabled GPU you can install the GPU version of TensorFlow. You will also need to install some other software which can be found here: https://www.tensorflow.org/install/gpu \n",
        "```console\n",
        "pip install tensorflow-gpu\n",
        "```"
      ]
    },
    {
      "cell_type": "markdown",
      "metadata": {
        "id": "duDj86TfWFof"
      },
      "source": [
        "##Tensors \n",
        "\"A tensor is a generalization of vectors and matrices to potentially higher dimensions. Internally, TensorFlow represents tensors as n-dimensional arrays of base datatypes.\" (https://www.tensorflow.org/guide/tensor)\n",
        "\n",
        "It shouldn't surprise you that tensors are a fundemental aspect of TensorFlow. They are the main objects that are passed around and manipluated throughout the program.\n",
        "\n",
        "<!-- Each tensor represents a partially defined computation that will eventually produce a value. TensorFlow programs work by building a graph of Tensor objects that details how tensors are related. Running different parts of the graph allow results to be generated. -->\n",
        "\n",
        "Each tensor has a data type and a shape. \n",
        "\n",
        "**Data Types**: float32, int32, string, and so on.\n",
        "\n",
        "**Shape**: Represents the dimension of data.\n",
        "\n",
        "Just like vectors and matrices, tensors can have operations applied to them: addition, subtraction, dot product, cross product and so on.\n",
        "\n",
        "In the next sections we will discuss some different properties of tensors. This is to make you more familiar with how TensorFlow represents data and how you can manipulate this data.\n"
      ]
    },
    {
      "cell_type": "markdown",
      "metadata": {
        "id": "TAk6QhGUwQRt"
      },
      "source": [
        "###Creating Tensors\n",
        "Below is an example of how to create some different tensors.\n",
        "\n",
        "You simply define the value of the tensor and the datatype and you are good to go! It's worth mentioning that usually we deal with tensors of numeric data, it is quite rare to see string tensors.\n",
        "\n",
        "For a full list of datatypes please refer to the following guide.\n",
        "\n",
        "https://www.tensorflow.org/api_docs/python/tf/dtypes/DType?version=stable"
      ]
    },
    {
      "cell_type": "code",
      "metadata": {
        "id": "OnReKOeSdidt"
      },
      "source": [
        "%tensorflow_version 2.x\n",
        "import tensorflow as tf"
      ],
      "execution_count": null,
      "outputs": []
    },
    {
      "cell_type": "code",
      "metadata": {
        "id": "epGskXdjZHzu",
        "colab": {
          "base_uri": "https://localhost:8080/"
        },
        "outputId": "45f9100f-2cf7-487c-f655-96ea07aaf95a"
      },
      "source": [
        "string = tf.Variable(\"this is a string\", tf.string) \n",
        "number = tf.Variable(324, tf.int16)\n",
        "floating = tf.Variable(3.567, tf.float64)\n",
        "print(string)\n",
        "print(number)\n",
        "print(floating)"
      ],
      "execution_count": null,
      "outputs": [
        {
          "output_type": "stream",
          "text": [
            "<tf.Variable 'Variable:0' shape=() dtype=string, numpy=b'this is a string'>\n",
            "<tf.Variable 'Variable:0' shape=() dtype=int32, numpy=324>\n",
            "<tf.Variable 'Variable:0' shape=() dtype=float32, numpy=3.567>\n"
          ],
          "name": "stdout"
        }
      ]
    },
    {
      "cell_type": "markdown",
      "metadata": {
        "id": "D0_H71HMaE-5"
      },
      "source": [
        "###Rank/Degree of Tensors\n",
        "Another word for rank is degree, these terms simply mean the number of dimensions involved in the tensor. What we created above is a *tensor of rank 0*, also known as a scalar. \n",
        "\n",
        "Now we'll create some tensors of higher degrees/ranks."
      ]
    },
    {
      "cell_type": "code",
      "metadata": {
        "id": "hX_Cc5IfjQ6-"
      },
      "source": [
        "rank1_tensor = tf.Variable([\"Test\"], tf.string) \n",
        "rank2_tensor = tf.Variable([[\"test\", \"ok\"], [\"test\", \"yes\"]], tf.string)"
      ],
      "execution_count": null,
      "outputs": []
    },
    {
      "cell_type": "markdown",
      "metadata": {
        "id": "55zuGMc7nHjC"
      },
      "source": [
        "**To determine the rank** of a tensor we can call the following method."
      ]
    },
    {
      "cell_type": "code",
      "metadata": {
        "id": "Zrj0rAWLnMNv",
        "colab": {
          "base_uri": "https://localhost:8080/"
        },
        "outputId": "303d18a1-909c-4e0c-aa28-efbbd9cc9dc7"
      },
      "source": [
        "tf.rank(rank2_tensor)"
      ],
      "execution_count": null,
      "outputs": [
        {
          "output_type": "execute_result",
          "data": {
            "text/plain": [
              "<tf.Tensor: shape=(), dtype=int32, numpy=2>"
            ]
          },
          "metadata": {},
          "execution_count": 6
        }
      ]
    },
    {
      "cell_type": "markdown",
      "metadata": {
        "id": "hTv4Gz67pQbx"
      },
      "source": [
        "The rank of a tensor is direclty related to the deepest level of nested lists. You can see in the first example ```[\"Test\"]``` is a rank 1 tensor as the deepest level of nesting is 1. \n",
        "Where in the second example ```[[\"test\", \"ok\"], [\"test\", \"yes\"]]``` is a rank 2 tensor as the deepest level of nesting is 2."
      ]
    },
    {
      "cell_type": "markdown",
      "metadata": {
        "id": "RaVrANK8q21q"
      },
      "source": [
        "###Shape of Tensors\n",
        "Now that we've talked about the rank of tensors it's time to talk about the shape. The shape of a tensor is simply the number of elements that exist in each dimension. TensorFlow will try to determine the shape of a tensor but sometimes it may be unknown.\n",
        "\n",
        "To **get the shape** of a tensor we use the shape attribute.\n"
      ]
    },
    {
      "cell_type": "code",
      "metadata": {
        "id": "L_NRXsFOraYa",
        "colab": {
          "base_uri": "https://localhost:8080/"
        },
        "outputId": "51083196-4bb1-49fa-fb98-1f05b9393d10"
      },
      "source": [
        "rank2_tensor.shape"
      ],
      "execution_count": null,
      "outputs": [
        {
          "output_type": "execute_result",
          "data": {
            "text/plain": [
              "TensorShape([2, 2])"
            ]
          },
          "metadata": {},
          "execution_count": 20
        }
      ]
    },
    {
      "cell_type": "markdown",
      "metadata": {
        "id": "wVDmLJeFs086"
      },
      "source": [
        "###Changing Shape\n",
        "The number of elements of a tensor is the product of the sizes of all its shapes. There are often many shapes that have the same number of elements, making it convient to be able to change the shape of a tensor.\n",
        "\n",
        "The example below shows how to change the shape of a tensor."
      ]
    },
    {
      "cell_type": "code",
      "metadata": {
        "id": "dZ8Rbs2xtNqj",
        "colab": {
          "base_uri": "https://localhost:8080/"
        },
        "outputId": "c234aa7b-84e5-4dce-fe2d-0a2fb03370c5"
      },
      "source": [
        "tensor1 = tf.ones([1,2,3])  # tf.ones() creates a shape [1,2,3] tensor full of ones\n",
        "tensor2 = tf.reshape(tensor1, [2,3,1])  # reshape existing data to shape [2,3,1]\n",
        "tensor3 = tf.reshape(tensor2, [3, -1])  # -1 tells the tensor to calculate the size of the dimension in that place\n",
        "                                        # this will reshape the tensor to [3,3]\n",
        "                                                                             \n",
        "# The number of elements in the reshaped tensor MUST match the number in the original\n",
        "print(tensor1)\n",
        "print(tensor2)\n",
        "print(tensor3)"
      ],
      "execution_count": null,
      "outputs": [
        {
          "output_type": "stream",
          "text": [
            "tf.Tensor(\n",
            "[[[1. 1. 1.]\n",
            "  [1. 1. 1.]]], shape=(1, 2, 3), dtype=float32)\n",
            "tf.Tensor(\n",
            "[[[1.]\n",
            "  [1.]\n",
            "  [1.]]\n",
            "\n",
            " [[1.]\n",
            "  [1.]\n",
            "  [1.]]], shape=(2, 3, 1), dtype=float32)\n",
            "tf.Tensor(\n",
            "[[1. 1.]\n",
            " [1. 1.]\n",
            " [1. 1.]], shape=(3, 2), dtype=float32)\n"
          ],
          "name": "stdout"
        }
      ]
    },
    {
      "cell_type": "markdown",
      "metadata": {
        "id": "q88pJucBolsp"
      },
      "source": [
        "###Slicing Tensors\n",
        "You may be familiar with the term \"slice\" in python and its use on lists, tuples etc. Well the slice operator can be used on tensors to select specific axes or elements.\n",
        "\n",
        "When we slice or select elements from a tensor, we can use comma seperated values inside the set of square brackets. Each subsequent value refrences a different dimension of the tensor.\n",
        "\n",
        "Ex: ```tensor[dim1, dim2, dim3]```\n",
        "\n",
        "I've included a few examples that will hopefully help illustrate how we can manipulate tensors with the slice operator."
      ]
    },
    {
      "cell_type": "code",
      "metadata": {
        "id": "b0YrD-hRqD-W",
        "colab": {
          "base_uri": "https://localhost:8080/"
        },
        "outputId": "34da4765-e311-4ea1-a801-8d71ef3d2bc9"
      },
      "source": [
        "# Creating a 2D tensor\n",
        "matrix = [[1,2,3,4,5],\n",
        "          [6,7,8,9,10],\n",
        "          [11,12,13,14,15],\n",
        "          [16,17,18,19,20]]\n",
        "\n",
        "tensor = tf.Variable(matrix, dtype=tf.int32) \n",
        "print(tf.rank(tensor))\n",
        "print(tensor.shape)"
      ],
      "execution_count": null,
      "outputs": [
        {
          "output_type": "stream",
          "text": [
            "tf.Tensor(2, shape=(), dtype=int32)\n",
            "(4, 5)\n"
          ],
          "name": "stdout"
        }
      ]
    },
    {
      "cell_type": "code",
      "metadata": {
        "id": "Wd85uGI7qyfC",
        "colab": {
          "base_uri": "https://localhost:8080/"
        },
        "outputId": "0a98a581-19d0-4a00-e455-3f27d73341ad"
      },
      "source": [
        "# Now lets select some different rows and columns from our tensor\n",
        "\n",
        "three = tensor[0,2]  # selects the 3rd element from the 1st row\n",
        "print(three)  # -> 3\n",
        "\n",
        "row1 = tensor[0]  # selects the first row\n",
        "print(row1)\n",
        "\n",
        "column1 = tensor[:, 0]  # selects the first column\n",
        "print(column1)\n",
        "\n",
        "row_2_and_4 = tensor[1::2]  # selects second and fourth row\n",
        "print(row_2_and_4)\n",
        "\n",
        "column_1_in_row_2_and_3 = tensor[1:3, 0]\n",
        "print(column_1_in_row_2_and_3)\n"
      ],
      "execution_count": null,
      "outputs": [
        {
          "output_type": "stream",
          "text": [
            "tf.Tensor(3, shape=(), dtype=int32)\n",
            "tf.Tensor([1 2 3 4 5], shape=(5,), dtype=int32)\n",
            "tf.Tensor([ 1  6 11 16], shape=(4,), dtype=int32)\n",
            "tf.Tensor(\n",
            "[[ 6  7  8  9 10]\n",
            " [16 17 18 19 20]], shape=(2, 5), dtype=int32)\n",
            "tf.Tensor([ 6 11], shape=(2,), dtype=int32)\n"
          ],
          "name": "stdout"
        }
      ]
    },
    {
      "cell_type": "markdown",
      "metadata": {
        "id": "UU4MMhB_rxvz"
      },
      "source": [
        "###Types of Tensors\n",
        "These are the diffent types of tensors.\n",
        "- Variable\n",
        "- Constant\n",
        "- Placeholder\n",
        "- SparseTensor\n",
        "\n",
        "With the exception of ```Variable``` all these tensors are immutable, meaning their value may not change during execution.\n",
        "\n",
        "For now, it is enough to understand that we use the Variable tensor when we want to potentially change the value of our tensor, such as to repre\n",
        "\n"
      ]
    },
    {
      "cell_type": "markdown",
      "metadata": {
        "id": "6c3FXxNy0iVT"
      },
      "source": [
        "#Tensor Operations\n",
        "\n",
        "Below, we describe some additional operations that can be performed with tensors.\n"
      ]
    },
    {
      "cell_type": "code",
      "metadata": {
        "id": "1PcjxWPyr6Bf",
        "colab": {
          "base_uri": "https://localhost:8080/"
        },
        "outputId": "ca5098e2-0a47-49aa-c8c1-0165808313e2"
      },
      "source": [
        "x = tf.constant(4, shape=(1, 1), dtype=tf.float32)\n",
        "print(x)\n",
        "\n",
        "x = tf.constant([[1, 2, 3], [4, 5, 6]], shape=(2, 3))\n",
        "print(x)"
      ],
      "execution_count": null,
      "outputs": [
        {
          "output_type": "stream",
          "text": [
            "tf.Tensor([[4.]], shape=(1, 1), dtype=float32)\n",
            "tf.Tensor(\n",
            "[[1 2 3]\n",
            " [4 5 6]], shape=(2, 3), dtype=int32)\n"
          ],
          "name": "stdout"
        }
      ]
    },
    {
      "cell_type": "code",
      "metadata": {
        "id": "FAVpNBxxsRzy",
        "colab": {
          "base_uri": "https://localhost:8080/"
        },
        "outputId": "2f445546-4736-4e78-e773-0e81770cff37"
      },
      "source": [
        "# Identity Matrix\n",
        "x = tf.eye(3)\n",
        "print(x)\n",
        "\n",
        "# Matrix of ones\n",
        "x = tf.ones((4, 3))\n",
        "print(x)\n",
        "\n",
        "# Matrix of zeros\n",
        "x = tf.zeros((3, 2, 5))\n",
        "print(x)"
      ],
      "execution_count": null,
      "outputs": [
        {
          "output_type": "stream",
          "text": [
            "tf.Tensor(\n",
            "[[1. 0. 0.]\n",
            " [0. 1. 0.]\n",
            " [0. 0. 1.]], shape=(3, 3), dtype=float32)\n",
            "tf.Tensor(\n",
            "[[1. 1. 1.]\n",
            " [1. 1. 1.]\n",
            " [1. 1. 1.]\n",
            " [1. 1. 1.]], shape=(4, 3), dtype=float32)\n",
            "tf.Tensor(\n",
            "[[[0. 0. 0. 0. 0.]\n",
            "  [0. 0. 0. 0. 0.]]\n",
            "\n",
            " [[0. 0. 0. 0. 0.]\n",
            "  [0. 0. 0. 0. 0.]]\n",
            "\n",
            " [[0. 0. 0. 0. 0.]\n",
            "  [0. 0. 0. 0. 0.]]], shape=(3, 2, 5), dtype=float32)\n"
          ],
          "name": "stdout"
        }
      ]
    },
    {
      "cell_type": "code",
      "metadata": {
        "id": "UcbLUUZWtOn-",
        "colab": {
          "base_uri": "https://localhost:8080/"
        },
        "outputId": "d8c99a92-c55b-408b-a0e1-3f1a23a3a429"
      },
      "source": [
        "# Sampling from a uniform distribution (https://en.wikipedia.org/wiki/Continuous_uniform_distribution)\n",
        "x = tf.random.uniform((2, 2), minval=0, maxval=1)\n",
        "print(x)\n",
        "\n",
        "# Sampling from a normal distribution (https://en.wikipedia.org/wiki/Normal_distribution)\n",
        "x = tf.random.normal((3, 3), mean=0, stddev=1)\n",
        "print(x)\n",
        "\n",
        "# Constructing a tensor with range limits and step values\n",
        "x = tf.range(9)\n",
        "print(x)\n",
        "\n",
        "x = tf.range(start=0, limit=10, delta=2)\n",
        "print(x)"
      ],
      "execution_count": null,
      "outputs": [
        {
          "output_type": "stream",
          "text": [
            "tf.Tensor(\n",
            "[[0.43221462 0.11768067]\n",
            " [0.53404176 0.094203  ]], shape=(2, 2), dtype=float32)\n",
            "tf.Tensor(\n",
            "[[-2.881812    0.13387021 -0.4404107 ]\n",
            " [ 0.36322856  1.740028   -0.6820432 ]\n",
            " [-1.4119354  -0.5583211  -0.3960701 ]], shape=(3, 3), dtype=float32)\n",
            "tf.Tensor([0 1 2 3 4 5 6 7 8], shape=(9,), dtype=int32)\n",
            "tf.Tensor([0 2 4 6 8], shape=(5,), dtype=int32)\n"
          ],
          "name": "stdout"
        }
      ]
    },
    {
      "cell_type": "code",
      "metadata": {
        "id": "cY_h-xbvtVfd",
        "colab": {
          "base_uri": "https://localhost:8080/"
        },
        "outputId": "b69c010c-0962-4e3f-8346-ad4f46e2bf76"
      },
      "source": [
        "# Changing the data type of a tensor\n",
        "# Supported dtypes : tf.float (16,32,64), tf.int (8, 16, 32, 64), tf.bool\n",
        "print(tf.cast(x, dtype=tf.float64))"
      ],
      "execution_count": null,
      "outputs": [
        {
          "output_type": "stream",
          "text": [
            "tf.Tensor([0. 2. 4. 6. 8.], shape=(5,), dtype=float64)\n"
          ],
          "name": "stdout"
        }
      ]
    },
    {
      "cell_type": "code",
      "metadata": {
        "id": "z68fBnlFuU8C",
        "colab": {
          "base_uri": "https://localhost:8080/"
        },
        "outputId": "6fb7773d-f615-4c35-bc23-f077a781c8bb"
      },
      "source": [
        "# Mathematical Operations\n",
        "x = tf.constant([1, 2, 3])\n",
        "y = tf.constant([9, 8, 7])\n",
        "\n",
        "# Two ways of addition\n",
        "z = tf.add(x, y)\n",
        "z = x + y\n",
        "print(f\"Adding {x.numpy()} and {y.numpy()} gives us {z.numpy()}\")\n",
        "\n",
        "# Two ways of subtraction\n",
        "z = tf.subtract(x, y)\n",
        "z = x - y\n",
        "print(f\"Subtracting {x.numpy()} and {y.numpy()} gives us {z.numpy()}\")\n",
        "\n",
        "# Two ways of element-wise division\n",
        "z = tf.divide(x, y)\n",
        "z = x / y\n",
        "print(f\"Dividing {x.numpy()} and {y.numpy()} gives us {z.numpy()}\")\n",
        "\n",
        "# Two ways of element-wise multiplication\n",
        "z = tf.multiply(x, y)\n",
        "z = x * y\n",
        "print(f\"Multiplying {x.numpy()} and {y.numpy()} gives us {z.numpy()}\")\n",
        "\n",
        "# Dot-product\n",
        "z = tf.tensordot(x, y, axes=1)\n",
        "print(f\"The dot product of {x.numpy()} and {y.numpy()} gives us {z.numpy()}\")\n",
        "\n",
        "# Exponentiation\n",
        "z = x ** 5\n",
        "print(f\"{x.numpy()} raised to the power of 5 gives us {z.numpy()}\")\n",
        "\n",
        "# Matrix multiplication\n",
        "x = tf.random.normal((2, 3))\n",
        "y = tf.random.normal((3, 2))\n",
        "\n",
        "# Two ways of matrix multiplication\n",
        "z = tf.matmul(x, y)\n",
        "z = x @ y\n",
        "print(f\"Matrix multiplication of {x.numpy()} and {y.numpy()} gives us {z.numpy()}\")"
      ],
      "execution_count": null,
      "outputs": [
        {
          "output_type": "stream",
          "text": [
            "Adding [1 2 3] and [9 8 7] gives us [10 10 10]\n",
            "Subtracting [1 2 3] and [9 8 7] gives us [-8 -6 -4]\n",
            "Dividing [1 2 3] and [9 8 7] gives us [0.11111111 0.25       0.42857143]\n",
            "Multiplying [1 2 3] and [9 8 7] gives us [ 9 16 21]\n",
            "The dot product of [1 2 3] and [9 8 7] gives us 46\n",
            "[1 2 3] raised to the power of 5 gives us [  1  32 243]\n",
            "Matrix multiplication of [[-0.5834047  -0.9063122  -0.37869352]\n",
            " [ 1.5943869   0.12082507  0.8071664 ]] and [[-0.18177246 -0.10304508]\n",
            " [-1.1948669  -1.3671743 ]\n",
            " [-1.0090032   0.4024466 ]] gives us [[ 1.5710723   1.1467998 ]\n",
            " [-1.248619   -0.00464129]]\n"
          ],
          "name": "stdout"
        }
      ]
    },
    {
      "cell_type": "code",
      "metadata": {
        "id": "se7R8ZolwX2c",
        "colab": {
          "base_uri": "https://localhost:8080/"
        },
        "outputId": "9223687d-0391-474b-a91b-3b9de25d4913"
      },
      "source": [
        "# Indexing in a vector\n",
        "x = tf.constant([0, 1, 1, 2, 3, 1, 2, 3])\n",
        "print(x[:])\n",
        "print(x[1:])\n",
        "print(x[1:3])\n",
        "print(x[::2])\n",
        "print(x[::-1])\n",
        "\n",
        "# Get values at specific indices in a tensor\n",
        "indices = tf.constant([0, 3])\n",
        "x_indices = tf.gather(x, indices)\n",
        "\n",
        "# Indexing in a matrix\n",
        "x = tf.constant([[1, 2], [3, 4], [5, 6]])\n",
        "print(x[0, :])\n",
        "print(x[0:2, :])\n",
        "\n",
        "# Reshaping\n",
        "x = tf.range(9)\n",
        "x = tf.reshape(x, (3, 3))\n",
        "x = tf.transpose(x, perm=[1, 0])"
      ],
      "execution_count": null,
      "outputs": [
        {
          "output_type": "stream",
          "text": [
            "tf.Tensor([0 1 1 2 3 1 2 3], shape=(8,), dtype=int32)\n",
            "tf.Tensor([1 1 2 3 1 2 3], shape=(7,), dtype=int32)\n",
            "tf.Tensor([1 1], shape=(2,), dtype=int32)\n",
            "tf.Tensor([0 1 3 2], shape=(4,), dtype=int32)\n",
            "tf.Tensor([3 2 1 3 2 1 1 0], shape=(8,), dtype=int32)\n",
            "tf.Tensor([1 2], shape=(2,), dtype=int32)\n",
            "tf.Tensor(\n",
            "[[1 2]\n",
            " [3 4]], shape=(2, 2), dtype=int32)\n"
          ],
          "name": "stdout"
        }
      ]
    },
    {
      "cell_type": "markdown",
      "metadata": {
        "id": "eKIi66zFCns8"
      },
      "source": [
        "## Automatic Differentiation\n",
        "\n",
        "The easiest way to use the automatic differentiation engine is with `tf.GradientTape`.\n",
        "\n",
        "Suppose we want to find the gradient of a function `func` when given input `x`.\n",
        "* Call `y = func(x)` in a `with tf.GradientTape() as tape:` block.\n",
        "* Compute the gradients with `tape.gradient(y, x)`.\n",
        "\n",
        "For example:\n"
      ]
    },
    {
      "cell_type": "code",
      "metadata": {
        "id": "KszVbauhDL7E"
      },
      "source": [
        "# This is the function that we want to differentiate.\n",
        "def func(x):\n",
        "  return 3*x*x + 2*x\n",
        "\n",
        "# This is the gradient function computed by-hand.\n",
        "def manual_grad_func(x):\n",
        "  return 6*x + 2\n",
        "\n",
        "# This is the gradient function computed by TF.\n",
        "def auto_grad_func(x):\n",
        "  x = tf.Variable(x, dtype=tf.float32)\n",
        "  with tf.GradientTape() as tape:\n",
        "    y = func(x)\n",
        "  return tape.gradient(y, x) "
      ],
      "execution_count": null,
      "outputs": []
    },
    {
      "cell_type": "code",
      "metadata": {
        "id": "0BclEFwEEG4z",
        "outputId": "6c0685a0-4f1b-4f53-9eb6-6387f60a9260"
      },
      "source": [
        "x = 1\n",
        "print(f'x = {x}')\n",
        "print(f'Expected f\\'(x): {manual_grad_func(x)}')\n",
        "print(f'Computed f\\'(x): {auto_grad_func(x)}')"
      ],
      "execution_count": null,
      "outputs": [
        {
          "output_type": "stream",
          "text": [
            "x = 1\n",
            "Expected f'(x): 8\n",
            "Computed f'(x): 8.0\n"
          ],
          "name": "stdout"
        }
      ]
    }
  ]
}